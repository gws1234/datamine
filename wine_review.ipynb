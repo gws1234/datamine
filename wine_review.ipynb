{
 "cells": [
  {
   "cell_type": "code",
   "execution_count": null,
   "metadata": {},
   "outputs": [],
   "source": [
    "wine-reviews数据摘要"
   ]
  },
  {
   "cell_type": "code",
   "execution_count": null,
   "metadata": {},
   "outputs": [],
   "source": [
    "数值属性"
   ]
  },
  {
   "cell_type": "code",
   "execution_count": null,
   "metadata": {},
   "outputs": [],
   "source": [
    "import pandas\n",
    "i=pandas.read_csv(\"C:\\\\Users\\\\Administrator\\\\Desktop\\\\data\\\\wine-reviews(1)\\\\winemag-data_first150k.csv\")\n",
    "j=pandas.read_csv(\"C:\\\\Users\\\\Administrator\\\\Desktop\\\\data\\\\wine-reviews(1)\\\\winemag-data-130k-v2.csv\")\n",
    "k=i.append(j)\n",
    "k.describe()\n",
    "k.median()"
   ]
  },
  {
   "cell_type": "code",
   "execution_count": null,
   "metadata": {},
   "outputs": [],
   "source": [
    "points最大值为100，最小值为80，均值为88.146934，第一四分位数为86，第二四分位数为88，第三四分位数为90，缺失值个数为0,中位数为88；\n",
    "price 最大值为3300，最小值为4，均值为34.177162，第一四分位数为16，第二四分位数为25，第三四分位数为40，缺失值个数为22691,中位数为25；"
   ]
  },
  {
   "cell_type": "code",
   "execution_count": null,
   "metadata": {},
   "outputs": [],
   "source": [
    "标称属性"
   ]
  },
  {
   "cell_type": "code",
   "execution_count": null,
   "metadata": {},
   "outputs": [],
   "source": [
    "k['country'].value_counts()"
   ]
  },
  {
   "cell_type": "code",
   "execution_count": null,
   "metadata": {},
   "outputs": [],
   "source": [
    "US                        116901\n",
    "France                     43191\n",
    "Italy                      43018\n",
    "Spain                      14913\n",
    "Portugal                   11013\n",
    "Chile                      10288\n",
    "Argentina                   9431\n",
    "Australia                   7286\n",
    "Austria                     6402\n",
    "New Zealand                  4739\n",
    "Germany                     4617\n",
    "South Africa                 3659\n",
    "Greece                      1350\n",
    "Israel                      1135\n",
    "Canada                       453\n",
    "Hungary                      377\n",
    "Romania                      259\n",
    "Bulgaria                     218\n",
    "Uruguay                      201\n",
    "Slovenia                     181\n",
    "Croatia                       162\n",
    "Turkey                       142\n",
    "Mexico                       133\n",
    "Moldova                       130\n",
    "Georgia                       129\n",
    "England                       83\n",
    "Brazil                        77\n",
    "Lebanon                       72\n",
    "Cyprus                        42\n",
    "Morocco                       40\n",
    "Macedonia                      28\n",
    "Serbia                        26\n",
    "Ukraine                        19\n",
    "Czech Republic                   18\n",
    "India                         17\n",
    "Peru                          16\n",
    "Luxembourg                      15\n",
    "Switzerland                     11\n",
    "Lithuania                       8\n",
    "Bosnia and Herzegovina              6\n",
    "Egypt                         4\n",
    "China                         4\n",
    "Slovakia                       4\n",
    "South Korea                     4\n",
    "Armenia                        2\n",
    "Japan                         2\n",
    "Tunisia                        2\n",
    "Albania                        2\n",
    "Montenegro                     2\n",
    "US-France                      1"
   ]
  },
  {
   "cell_type": "code",
   "execution_count": null,
   "metadata": {},
   "outputs": [],
   "source": [
    "k['province'].value_counts()"
   ]
  },
  {
   "cell_type": "code",
   "execution_count": null,
   "metadata": {},
   "outputs": [],
   "source": [
    "California                                80755\n",
    "Washington                                18389\n",
    "Tuscany                                   13178\n",
    "Bordeaux                                  12052\n",
    "Oregon                                     9962\n",
    "Northern Spain                             8743\n",
    "Burgundy                                   8288\n",
    "Mendoza Province                           8006\n",
    "Piedmont                                   7822\n",
    "Veneto                                     6678\n",
    "New York                                   5116\n",
    "South Australia                            4353\n",
    "Sicily & Sardinia                          4342\n",
    "Northeastern Italy                         4120\n",
    "Alsace                                     4120\n",
    "Loire Valley                               3642\n",
    "Southwest France                           3104\n",
    "Champagne                                  2983\n",
    "Southern Italy                             2788\n",
    "Central Italy                              2763\n",
    "Catalonia                                  2516\n",
    "Marlborough                                2453\n",
    "Rh\\xf4ne Valley                               2399\n",
    "Provence                                   2367\n",
    "Douro                                      2356\n",
    "Colchagua Valley                           2031\n",
    "Mosel                                      1824\n",
    "Alentejano                                 1809\n",
    "Languedoc-Roussillon                       1695\n",
    "Beaujolais                                 1576\n",
    "                                          ...\n",
    "Terasele Dunarii                              1\n",
    "Stirling                                      1\n",
    "Beni M'Tir                                    1\n",
    "Vlootenburg                                   1\n",
    "Ceres Plateau                                 1\n",
    "Muscat of Kefallonian                             1\n",
    "Gladstone                                     1\n",
    "Langenlois                                    1\n",
    "Markopoulo                                    1\n",
    "Elaz\\u0131\\u011f-Diyarbakir                         1\n",
    "Santa Barbara County-Condrieu                        1\n",
    "Ioannina                                      1\n",
    "Rhode Island                                  1\n",
    "Hawaii                                        1\n",
    "Urla-Thrace                                   1\n",
    "Pannon                                        1\n",
    "Piekenierskloof                               1\n",
    "Lemnos                                        1\n",
    "Coelemu                                       1\n",
    "Rose Valley                                   1\n",
    "Paardeberg                                    1\n",
    "Ilia                                          1\n",
    "Zitsa                                         1\n",
    "Mavrodaphne de Cephalonie                           1\n",
    "Corinthia                                     1\n",
    "Martinborough Terrace                            1\n",
    "Central Otago-Marlborough                         1\n",
    "Viile Carasului                               1\n",
    "Vino da Tavola della Svizzera Italiana                1\n",
    "Douro Superior                                1\n",
    "Name: province, Length: 490, dtype: int64"
   ]
  },
  {
   "cell_type": "code",
   "execution_count": null,
   "metadata": {},
   "outputs": [],
   "source": [
    " k['variety'].value_counts()"
   ]
  },
  {
   "cell_type": "code",
   "execution_count": null,
   "metadata": {},
   "outputs": [],
   "source": [
    "Pinot Noir                       27563\n",
    "Chardonnay                       26235\n",
    "Cabernet Sauvignon               22272\n",
    "Red Blend                        19008\n",
    "Bordeaux-style Red Blend         14262\n",
    "Sauvignon Blanc                  11287\n",
    "Riesling                         10713\n",
    "Syrah                             9967\n",
    "Merlot                            8172\n",
    "Zinfandel                         6513\n",
    "Rosé                              6381\n",
    "Sangiovese                        6052\n",
    "Malbec                            5860\n",
    "White Blend                       5184\n",
    "Nebbiolo                          5045\n",
    "Portuguese Red                    4682\n",
    "Tempranillo                       4366\n",
    "Sparkling Blend                   4157\n",
    "Rh\\xf4ne-style Red Blend             2976\n",
    "Pinot Gris                        2820\n",
    "Shiraz                            2806\n",
    "Cabernet Franc                    2716\n",
    "Champagne Blend                   2634\n",
    "Grüner Veltliner                  2387\n",
    "Pinot Grigio                      2357\n",
    "Bordeaux-style White Blend        2327\n",
    "Corvina, Rondinella, Molinara     2301\n",
    "Viognier                          2259\n",
    "Portuguese White                  2100\n",
    "Sangiovese Grosso                 2097\n",
    "                                 ...\n",
    "Cabernet Sauvignon-Barbera           1\n",
    "Albarín                              1\n",
    "Pignolo                              1\n",
    "Ondenc                               1\n",
    "Verdosilla                           1\n",
    "Bobal-Cabernet Sauvignon             1\n",
    "Vital                                1\n",
    "Ruen                                 1\n",
    "Carcajolu                            1\n",
    "Misket                               1\n",
    "Pinela                               1\n",
    "Diamond                              1\n",
    "Ekiga\\xefna                             1\n",
    "Jampal                               1\n",
    "Chardonnay-Riesling                  1\n",
    "Biancu Gentile                       1\n",
    "Sarba                                1\n",
    "Trajadura                            1\n",
    "Tempranillo-Tannat                   1\n",
    "Petit Courbu                         1\n",
    "Frankovka                            1\n",
    "Piquepoul Blanc                      1\n",
    "Molinara                             1\n",
    "Valvin Muscat                        1\n",
    "Gra\\u0161evina                            1\n",
    "Babosa Negro                         1\n",
    "Bombino Nero                         1\n",
    "Pied de Perdrix                      1\n",
    "Pardina                              1\n",
    "Tamianka                             1"
   ]
  },
  {
   "cell_type": "code",
   "execution_count": null,
   "metadata": {},
   "outputs": [],
   "source": [
    " k['winery'].value_counts()"
   ]
  },
  {
   "cell_type": "code",
   "execution_count": null,
   "metadata": {},
   "outputs": [],
   "source": [
    "Pinot Noir                       27563\n",
    "Chardonnay                       26235\n",
    "Cabernet Sauvignon               22272\n",
    "Red Blend                        19008\n",
    "Bordeaux-style Red Blend         14262\n",
    "Sauvignon Blanc                  11287\n",
    "Riesling                         10713\n",
    "Syrah                             9967\n",
    "Merlot                            8172\n",
    "Zinfandel                         6513\n",
    "Rosé                              6381\n",
    "Sangiovese                        6052\n",
    "Malbec                            5860\n",
    "White Blend                       5184\n",
    "Nebbiolo                          5045\n",
    "Portuguese Red                    4682\n",
    "Tempranillo                       4366\n",
    "Sparkling Blend                   4157\n",
    "Rh\\xf4ne-style Red Blend             2976\n",
    "Pinot Gris                        2820\n",
    "Shiraz                            2806\n",
    "Cabernet Franc                    2716\n",
    "Champagne Blend                   2634\n",
    "Grüner Veltliner                  2387\n",
    "Pinot Grigio                      2357\n",
    "Bordeaux-style White Blend        2327\n",
    "Corvina, Rondinella, Molinara     2301\n",
    "Viognier                          2259\n",
    "Portuguese White                  2100\n",
    "Sangiovese Grosso                 2097\n",
    "                                 ...\n",
    "Cabernet Sauvignon-Barbera           1\n",
    "Albarín                              1\n",
    "Pignolo                              1\n",
    "Ondenc                               1\n",
    "Verdosilla                           1\n",
    "Bobal-Cabernet Sauvignon             1\n",
    "Vital                                1\n",
    "Ruen                                 1\n",
    "Carcajolu                            1\n",
    "Misket                               1\n",
    "Pinela                               1\n",
    "Diamond                              1\n",
    "Ekiga\\xefna                             1\n",
    "Jampal                               1\n",
    "Chardonnay-Riesling                  1\n",
    "Biancu Gentile                       1\n",
    "Sarba                                1\n",
    "Trajadura                            1\n",
    "Tempranillo-Tannat                   1\n",
    "Petit Courbu                         1\n",
    "Frankovka                            1\n",
    "Piquepoul Blanc                      1\n",
    "Molinara                             1\n",
    "Valvin Muscat                        1\n",
    "Gra\\u0161evina                            1\n",
    "Babosa Negro                         1\n",
    "Bombino Nero                         1\n",
    "Pied de Perdrix                      1\n",
    "Pardina                              1\n",
    "Tamianka                             1\n",
    "Name: variety, Length: 756, dtype: int64"
   ]
  },
  {
   "cell_type": "code",
   "execution_count": null,
   "metadata": {},
   "outputs": [],
   "source": [
    "绘制直方图"
   ]
  },
  {
   "cell_type": "code",
   "execution_count": null,
   "metadata": {},
   "outputs": [],
   "source": [
    "import matplotlib.pylab as pyl\n",
    "pyl.hist(k.price)\n",
    "pyl.show()"
   ]
  },
  {
   "cell_type": "code",
   "execution_count": null,
   "metadata": {},
   "outputs": [],
   "source": [
    "大部分酒的价格集中在0至500之间"
   ]
  },
  {
   "cell_type": "code",
   "execution_count": null,
   "metadata": {},
   "outputs": [],
   "source": [
    "sty=numpy.arange(0,500,50)\n",
    "pyl.hist(k.price,sty)\n",
    "pyl.show()"
   ]
  },
  {
   "cell_type": "code",
   "execution_count": null,
   "metadata": {},
   "outputs": [],
   "source": [
    "sty=numpy.arange(0,100,10)\n",
    "pyl.hist(k.price,sty)\n",
    "pyl.show()"
   ]
  },
  {
   "cell_type": "code",
   "execution_count": null,
   "metadata": {},
   "outputs": [],
   "source": [
    "绘制盒图"
   ]
  },
  {
   "cell_type": "code",
   "execution_count": null,
   "metadata": {},
   "outputs": [],
   "source": [
    "import matplotlib.pyplot as plt\n",
    "plt.boxplot(k.price)\n",
    "plt.show()\n",
    "import matplotlib.pyplot as plt\n",
    "plt.boxplot(k.point)\n",
    "plt.show()"
   ]
  }
 ],
 "metadata": {
  "kernelspec": {
   "display_name": "Python 3",
   "language": "python",
   "name": "python3"
  },
  "language_info": {
   "codemirror_mode": {
    "name": "ipython",
    "version": 3
   },
   "file_extension": ".py",
   "mimetype": "text/x-python",
   "name": "python",
   "nbconvert_exporter": "python",
   "pygments_lexer": "ipython3",
   "version": "3.5.2"
  }
 },
 "nbformat": 4,
 "nbformat_minor": 2
}
